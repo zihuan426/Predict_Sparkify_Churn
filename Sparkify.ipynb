{
 "cells": [
  {
   "cell_type": "markdown",
   "metadata": {},
   "source": [
    "# Sparkify Project "
   ]
  },
  {
   "cell_type": "code",
   "execution_count": 1,
   "metadata": {},
   "outputs": [],
   "source": [
    "# import libraries\n",
    "from pyspark.sql import SparkSession\n",
    "from pyspark.sql.functions import asc, desc, udf, sum, round, col\n",
    "from pyspark.sql.types import IntegerType\n",
    "\n",
    "from pyspark.ml.feature import VectorAssembler, StandardScaler\n",
    "from pyspark.ml.classification import LogisticRegression, RandomForestClassifier, GBTClassifier\n",
    "from pyspark.ml.tuning import CrossValidator, ParamGridBuilder\n",
    "from pyspark.ml.evaluation import MulticlassClassificationEvaluator\n",
    "\n",
    "from datetime import datetime\n",
    "import numpy as np\n",
    "import pandas as pd\n",
    "import matplotlib.pyplot as plt\n",
    "import seaborn as sns\n",
    "%matplotlib inline"
   ]
  },
  {
   "cell_type": "code",
   "execution_count": 2,
   "metadata": {},
   "outputs": [],
   "source": [
    "# create a Spark session\n",
    "spark = SparkSession.builder.appName('sparkify').getOrCreate()"
   ]
  },
  {
   "cell_type": "markdown",
   "metadata": {},
   "source": [
    "# Load and Clean Dataset"
   ]
  },
  {
   "cell_type": "code",
   "execution_count": 3,
   "metadata": {},
   "outputs": [],
   "source": [
    "user_log = spark.read.json('mini_sparkify_event_data.json')"
   ]
  },
  {
   "cell_type": "code",
   "execution_count": 4,
   "metadata": {},
   "outputs": [
    {
     "data": {
      "text/plain": [
       "Row(artist='Martha Tilston', auth='Logged In', firstName='Colin', gender='M', itemInSession=50, lastName='Freeman', length=277.89016, level='paid', location='Bakersfield, CA', method='PUT', page='NextSong', registration=1538173362000, sessionId=29, song='Rockpools', status=200, ts=1538352117000, userAgent='Mozilla/5.0 (Windows NT 6.1; WOW64; rv:31.0) Gecko/20100101 Firefox/31.0', userId='30')"
      ]
     },
     "execution_count": 4,
     "metadata": {},
     "output_type": "execute_result"
    }
   ],
   "source": [
    "user_log.head()"
   ]
  },
  {
   "cell_type": "code",
   "execution_count": 5,
   "metadata": {},
   "outputs": [],
   "source": [
    "# drop invalid and missing values\n",
    "user_log = user_log.dropna(how='any', subset=['userId', 'sessionId'])\n",
    "user_log_valid = user_log.filter(user_log.userId != '')"
   ]
  },
  {
   "cell_type": "markdown",
   "metadata": {},
   "source": [
    "# Exploratory Data Analysis"
   ]
  },
  {
   "cell_type": "code",
   "execution_count": 6,
   "metadata": {},
   "outputs": [
    {
     "name": "stdout",
     "output_type": "stream",
     "text": [
      "root\n",
      " |-- artist: string (nullable = true)\n",
      " |-- auth: string (nullable = true)\n",
      " |-- firstName: string (nullable = true)\n",
      " |-- gender: string (nullable = true)\n",
      " |-- itemInSession: long (nullable = true)\n",
      " |-- lastName: string (nullable = true)\n",
      " |-- length: double (nullable = true)\n",
      " |-- level: string (nullable = true)\n",
      " |-- location: string (nullable = true)\n",
      " |-- method: string (nullable = true)\n",
      " |-- page: string (nullable = true)\n",
      " |-- registration: long (nullable = true)\n",
      " |-- sessionId: long (nullable = true)\n",
      " |-- song: string (nullable = true)\n",
      " |-- status: long (nullable = true)\n",
      " |-- ts: long (nullable = true)\n",
      " |-- userAgent: string (nullable = true)\n",
      " |-- userId: string (nullable = true)\n",
      "\n"
     ]
    }
   ],
   "source": [
    "user_log_valid.printSchema()"
   ]
  },
  {
   "cell_type": "code",
   "execution_count": 7,
   "metadata": {},
   "outputs": [],
   "source": [
    "# get the hour each song is played\n",
    "get_hour = udf(lambda x: datetime.fromtimestamp(x / 1000.0).hour, IntegerType())\n",
    "user_log_valid = user_log_valid.withColumn('hour', get_hour(user_log_valid.ts))"
   ]
  },
  {
   "cell_type": "code",
   "execution_count": 8,
   "metadata": {},
   "outputs": [
    {
     "data": {
      "text/plain": [
       "[Row(page='Cancel'),\n",
       " Row(page='Submit Downgrade'),\n",
       " Row(page='Thumbs Down'),\n",
       " Row(page='Home'),\n",
       " Row(page='Downgrade'),\n",
       " Row(page='Roll Advert'),\n",
       " Row(page='Logout'),\n",
       " Row(page='Save Settings'),\n",
       " Row(page='Cancellation Confirmation'),\n",
       " Row(page='About'),\n",
       " Row(page='Settings'),\n",
       " Row(page='Add to Playlist'),\n",
       " Row(page='Add Friend'),\n",
       " Row(page='NextSong'),\n",
       " Row(page='Thumbs Up'),\n",
       " Row(page='Help'),\n",
       " Row(page='Upgrade'),\n",
       " Row(page='Error'),\n",
       " Row(page='Submit Upgrade')]"
      ]
     },
     "execution_count": 8,
     "metadata": {},
     "output_type": "execute_result"
    }
   ],
   "source": [
    "user_log_valid.select('page').dropDuplicates().collect()"
   ]
  },
  {
   "cell_type": "markdown",
   "metadata": {},
   "source": [
    "### Define Churn\n",
    "\n",
    "Once you've done some preliminary analysis, create a column `Churn` to use as the label for your model. I suggest using the `Cancellation Confirmation` events to define your churn, which happen for both paid and free users. As a bonus task, you can also look into the `Downgrade` events."
   ]
  },
  {
   "cell_type": "code",
   "execution_count": 9,
   "metadata": {},
   "outputs": [],
   "source": [
    "# define churn\n",
    "churn_users = user_log_valid.filter(user_log_valid.page == 'Cancellation Confirmation') \\\n",
    "                            .select('userId') \\\n",
    "                            .dropDuplicates().collect()\n",
    "\n",
    "churn_user_id = [i['userId'] for i in churn_users]"
   ]
  },
  {
   "cell_type": "code",
   "execution_count": 10,
   "metadata": {},
   "outputs": [],
   "source": [
    "if_churn = udf(lambda x: 1 if x in churn_user_id else 0, IntegerType())\n",
    "user_log_valid = user_log_valid.withColumn('churn', if_churn(user_log_valid.userId))"
   ]
  },
  {
   "cell_type": "markdown",
   "metadata": {},
   "source": [
    "### Explore Data\n",
    "Once you've defined churn, perform some exploratory data analysis to observe the behavior for users who stayed vs users who churned. You can start by exploring aggregates on these two groups of users, observing how much of a specific action they experienced per a certain time unit or number of songs played."
   ]
  },
  {
   "cell_type": "code",
   "execution_count": 11,
   "metadata": {},
   "outputs": [],
   "source": [
    "# the distribution of hours that songs are played\n",
    "hour_of_song = user_log_valid.filter(user_log_valid.page == 'NextSong').groupby('hour').count().sort('hour')\n",
    "hour_of_song_pd = hour_of_song.toPandas()"
   ]
  },
  {
   "cell_type": "code",
   "execution_count": 12,
   "metadata": {},
   "outputs": [
    {
     "data": {
      "image/png": "[encoded data removed]",
      "text/plain": [
       "<Figure size 432x288 with 1 Axes>"
      ]
     },
     "metadata": {
      "needs_background": "light"
     },
     "output_type": "display_data"
    }
   ],
   "source": [
    "plt.scatter(hour_of_song_pd['hour'], hour_of_song_pd['count']);\n",
    "plt.xlabel('hour');\n",
    "plt.ylabel('songs_played');"
   ]
  },
  {
   "cell_type": "markdown",
   "metadata": {},
   "source": [
    "people usually play songs between 9am-12pm."
   ]
  },
  {
   "cell_type": "code",
   "execution_count": 13,
   "metadata": {},
   "outputs": [
    {
     "data": {
      "text/plain": [
       "<matplotlib.axes._subplots.AxesSubplot at 0x11fff4cc0>"
      ]
     },
     "execution_count": 13,
     "metadata": {},
     "output_type": "execute_result"
    },
    {
     "data": {
      "image/png": "[encoded data removed]",
      "text/plain": [
       "<Figure size 432x288 with 1 Axes>"
      ]
     },
     "metadata": {
      "needs_background": "light"
     },
     "output_type": "display_data"
    }
   ],
   "source": [
    "# paid or free distribution for churn\n",
    "paid_or_free = user_log_valid.filter(user_log_valid['page'] == 'Cancellation Confirmation') \\\n",
    "                             .dropDuplicates(['userId']) \\\n",
    "                             .groupby('level').count()\n",
    "\n",
    "paid_or_free_pd = paid_or_free.toPandas()\n",
    "sns.barplot(x='level', y='count', data=paid_or_free_pd)"
   ]
  },
  {
   "cell_type": "markdown",
   "metadata": {},
   "source": [
    "Although the number of paid users is more than free users, but it's not statistically significant."
   ]
  },
  {
   "cell_type": "code",
   "execution_count": 14,
   "metadata": {},
   "outputs": [
    {
     "data": {
      "text/plain": [
       "<matplotlib.axes._subplots.AxesSubplot at 0x1200fd390>"
      ]
     },
     "execution_count": 14,
     "metadata": {},
     "output_type": "execute_result"
    },
    {
     "data": {
      "image/png": "[encoded data removed]",
      "text/plain": [
       "<Figure size 432x288 with 1 Axes>"
      ]
     },
     "metadata": {
      "needs_background": "light"
     },
     "output_type": "display_data"
    }
   ],
   "source": [
    "# distribution for churn and nochurn\n",
    "churn_nochurn = user_log_valid.dropDuplicates(['userId']).groupby('churn').count()\n",
    "churn_nochurn_pd = churn_nochurn.toPandas()\n",
    "sns.barplot(x='churn', y='count', data=churn_nochurn_pd)"
   ]
  },
  {
   "cell_type": "code",
   "execution_count": 15,
   "metadata": {},
   "outputs": [
    {
     "data": {
      "text/plain": [
       "<matplotlib.axes._subplots.AxesSubplot at 0x1201c4860>"
      ]
     },
     "execution_count": 15,
     "metadata": {},
     "output_type": "execute_result"
    },
    {
     "data": {
      "image/png": "[encoded data removed]",
      "text/plain": [
       "<Figure size 432x288 with 1 Axes>"
      ]
     },
     "metadata": {
      "needs_background": "light"
     },
     "output_type": "display_data"
    }
   ],
   "source": [
    "# gender distribution for churn and nochurn\n",
    "gender_churn = user_log_valid.dropDuplicates(['userId']).groupby('churn', 'gender').count()\n",
    "gender_churn_pd = gender_churn.toPandas()\n",
    "sns.barplot(x='churn', y='count', hue='gender', data=gender_churn_pd)"
   ]
  },
  {
   "cell_type": "code",
   "execution_count": 16,
   "metadata": {},
   "outputs": [],
   "source": [
    "# page frequency for churn and nochurn users"
   ]
  },
  {
   "cell_type": "code",
   "execution_count": 17,
   "metadata": {},
   "outputs": [
    {
     "name": "stdout",
     "output_type": "stream",
     "text": [
      "number of churn log: 44864\n",
      "number of not churn log: 233290\n"
     ]
    }
   ],
   "source": [
    "num_churn_log = user_log_valid.filter(user_log_valid.churn == True).count()\n",
    "num_non_churn_log = user_log_valid.filter(user_log_valid.churn == False).count()\n",
    "print('number of churn log: {}'.format(num_churn_log))\n",
    "print('number of not churn log: {}'.format(num_non_churn_log))"
   ]
  },
  {
   "cell_type": "code",
   "execution_count": 18,
   "metadata": {},
   "outputs": [],
   "source": [
    "# page frequency for churns\n",
    "churn_log = user_log_valid.filter((user_log_valid.churn == True) & (user_log_valid.page != 'NextSong')) \\\n",
    "                          .groupby('page').count()\n",
    "churn_log = churn_log.withColumn('churn_freq', round(churn_log['count'] / num_churn_log * 100, 2)) \\\n",
    "                     .sort('page')\n",
    "\n",
    "# page frequency for nochurns\n",
    "not_churn_log = user_log_valid.filter((user_log_valid.churn == False) & (user_log_valid.page != 'NextSong')) \\\n",
    "                              .groupby('page').count()\n",
    "not_churn_log = not_churn_log.withColumn('nochurn_freq', round(not_churn_log['count'] / num_non_churn_log * 100, 2)) \\\n",
    "                             .sort('page')\n",
    "\n",
    "# join churns and nochurns\n",
    "all_page_freq = churn_log.join(not_churn_log, \"page\", \"outer\").drop('count').fillna(0)"
   ]
  },
  {
   "cell_type": "code",
   "execution_count": 19,
   "metadata": {},
   "outputs": [
    {
     "name": "stdout",
     "output_type": "stream",
     "text": [
      "+--------------------+----------+------------+\n",
      "|                page|churn_freq|nochurn_freq|\n",
      "+--------------------+----------+------------+\n",
      "|              Cancel|      0.12|         0.0|\n",
      "|    Submit Downgrade|      0.02|        0.02|\n",
      "|         Thumbs Down|      1.11|        0.88|\n",
      "|                Home|      3.73|         3.6|\n",
      "|           Downgrade|      0.75|        0.74|\n",
      "|         Roll Advert|      2.16|        1.27|\n",
      "|              Logout|      1.23|        1.15|\n",
      "|       Save Settings|      0.13|        0.11|\n",
      "|Cancellation Conf...|      0.12|         0.0|\n",
      "|               About|      0.12|        0.19|\n",
      "+--------------------+----------+------------+\n",
      "only showing top 10 rows\n",
      "\n"
     ]
    }
   ],
   "source": [
    "all_page_freq.show(10)"
   ]
  },
  {
   "cell_type": "code",
   "execution_count": 20,
   "metadata": {},
   "outputs": [
    {
     "data": {
      "text/plain": [
       "<matplotlib.axes._subplots.AxesSubplot at 0x120327240>"
      ]
     },
     "execution_count": 20,
     "metadata": {},
     "output_type": "execute_result"
    },
    {
     "data": {
      "image/png": "[encoded data removed]",
      "text/plain": [
       "<Figure size 432x288 with 1 Axes>"
      ]
     },
     "metadata": {
      "needs_background": "light"
     },
     "output_type": "display_data"
    }
   ],
   "source": [
    "all_page_freq_pd = all_page_freq.toPandas()\n",
    "all_page_freq_pd.plot.barh('page')"
   ]
  },
  {
   "cell_type": "markdown",
   "metadata": {},
   "source": [
    "As the figure shows above, nochurn users click 'Thumbs Up', 'Add Friend', 'Add to Playlist' more than churn users; churn users click 'Roll Advert' and 'Thumbs Down' more than nochurn users."
   ]
  },
  {
   "cell_type": "markdown",
   "metadata": {},
   "source": [
    "# Feature Engineering\n",
    "Once you've familiarized yourself with the data, build out the features you find promising to train your model on. "
   ]
  },
  {
   "cell_type": "markdown",
   "metadata": {},
   "source": [
    "### The feature I choose:\n",
    "1. The number of songs each user played\n",
    "2. The number of errors each user encountered \n",
    "3. The number of friends each user added\n",
    "4. The number of roll advert each user added\n",
    "5. The number of songs each user added in playlist\n",
    "6. The number of thumbs up each user clicked\n",
    "7. The number of thumbs down each user clicked\n",
    "8. The span of time since registration for each user\n",
    "9. The total listening time for each user\n",
    "10. The average number of songs each user played per session"
   ]
  },
  {
   "cell_type": "code",
   "execution_count": 21,
   "metadata": {},
   "outputs": [],
   "source": [
    "user_page_features = user_log_valid.groupby('userId') \\\n",
    "                    .pivot('page', ['NextSong', 'Error', 'Add Friend', 'Roll Advert',\\\n",
    "                                    'Add to Playlist', 'Thumbs Up', 'Thumbs Down']) \\\n",
    "                    .count() \\\n",
    "                    .fillna(0) \\\n",
    "                    .sort('userId') \\\n",
    "                    .withColumnRenamed('NextSong', 'Songs') \\\n",
    "                    .withColumnRenamed('Add to Playlist', 'Playlist_Add')"
   ]
  },
  {
   "cell_type": "code",
   "execution_count": 22,
   "metadata": {},
   "outputs": [
    {
     "name": "stdout",
     "output_type": "stream",
     "text": [
      "+------+-----+-----+----------+-----------+------------+---------+-----------+\n",
      "|userId|Songs|Error|Add Friend|Roll Advert|Playlist_Add|Thumbs Up|Thumbs Down|\n",
      "+------+-----+-----+----------+-----------+------------+---------+-----------+\n",
      "|    10|  673|    0|        12|          1|           9|       37|          4|\n",
      "|   100| 2682|    3|        49|         25|          61|      148|         27|\n",
      "|100001|  133|    1|         2|         14|           3|        8|          2|\n",
      "|100002|  195|    0|         1|          3|           5|        5|          0|\n",
      "|100003|   51|    0|         0|          9|           2|        3|          0|\n",
      "|100004|  942|    2|        19|         86|          23|       35|         11|\n",
      "|100005|  154|    0|         3|         18|           3|        7|          3|\n",
      "|100006|   26|    0|         4|          3|           1|        2|          2|\n",
      "|100007|  423|    0|        17|          5|           9|       19|          6|\n",
      "|100008|  772|    0|        17|         20|          30|       37|          6|\n",
      "+------+-----+-----+----------+-----------+------------+---------+-----------+\n",
      "only showing top 10 rows\n",
      "\n"
     ]
    }
   ],
   "source": [
    "user_page_features.show(10)"
   ]
  },
  {
   "cell_type": "code",
   "execution_count": 23,
   "metadata": {},
   "outputs": [],
   "source": [
    "# the span of time since registration\n",
    "time_span = user_log_valid.select('userId', 'ts', 'registration')\\\n",
    "                          .withColumn('span', user_log_valid.ts - user_log_valid.registration)\\\n",
    "                          .groupby('userId')\\\n",
    "                          .agg({'span': 'max'})\\\n",
    "                          .select('userId', round(col('max(span)') / 1000 / 3600 / 24).alias('span'))                     "
   ]
  },
  {
   "cell_type": "code",
   "execution_count": 24,
   "metadata": {},
   "outputs": [
    {
     "name": "stdout",
     "output_type": "stream",
     "text": [
      "+------+-----+\n",
      "|userId| span|\n",
      "+------+-----+\n",
      "|100010| 56.0|\n",
      "|200002| 70.0|\n",
      "|   125| 71.0|\n",
      "|    51| 19.0|\n",
      "|   124|132.0|\n",
      "|     7| 73.0|\n",
      "|    54|111.0|\n",
      "|    15| 57.0|\n",
      "|   155| 24.0|\n",
      "|   132| 67.0|\n",
      "+------+-----+\n",
      "only showing top 10 rows\n",
      "\n"
     ]
    }
   ],
   "source": [
    "time_span.show(10)"
   ]
  },
  {
   "cell_type": "code",
   "execution_count": 25,
   "metadata": {},
   "outputs": [],
   "source": [
    "# total listen time\n",
    "listen_time = user_log_valid.select('userId', 'length').groupby('userId').sum()\\\n",
    "                            .withColumnRenamed('sum(length)', 'listen_time')\\\n",
    "                            .withColumn('listen_time', round(col('listen_time')))"
   ]
  },
  {
   "cell_type": "code",
   "execution_count": 26,
   "metadata": {},
   "outputs": [
    {
     "name": "stdout",
     "output_type": "stream",
     "text": [
      "+------+-----------+\n",
      "|userId|listen_time|\n",
      "+------+-----------+\n",
      "|100010|    66941.0|\n",
      "|200002|    94009.0|\n",
      "|   125|     2089.0|\n",
      "|    51|   523276.0|\n",
      "|   124|  1012312.0|\n",
      "|     7|    38034.0|\n",
      "|    54|   711345.0|\n",
      "|    15|   477308.0|\n",
      "|   155|   198779.0|\n",
      "|   132|   483119.0|\n",
      "+------+-----------+\n",
      "only showing top 10 rows\n",
      "\n"
     ]
    }
   ],
   "source": [
    "listen_time.show(10)"
   ]
  },
  {
   "cell_type": "code",
   "execution_count": 27,
   "metadata": {},
   "outputs": [],
   "source": [
    "# the average number of songs played per session\n",
    "avg_songs = user_log_valid.filter(user_log_valid.page == 'NextSong') \\\n",
    "                          .groupby('userId', 'sessionId').count() \\\n",
    "                          .sort('userId', 'sessionId') \\\n",
    "                          .groupby('userId').agg({'count': 'avg'}) \\\n",
    "                          .withColumnRenamed('avg(count)', 'avg_song') \\\n",
    "                          .withColumn('avg_song', round(col('avg_song'), 2))"
   ]
  },
  {
   "cell_type": "code",
   "execution_count": 28,
   "metadata": {},
   "outputs": [
    {
     "name": "stdout",
     "output_type": "stream",
     "text": [
      "+------+--------+\n",
      "|userId|avg_song|\n",
      "+------+--------+\n",
      "|100010|   39.29|\n",
      "|200002|    64.5|\n",
      "|   125|     8.0|\n",
      "|   124|  145.68|\n",
      "|    51|   211.1|\n",
      "|     7|   21.43|\n",
      "|    15|  136.71|\n",
      "|    54|   81.17|\n",
      "|   155|  136.67|\n",
      "|100014|   42.83|\n",
      "+------+--------+\n",
      "only showing top 10 rows\n",
      "\n"
     ]
    }
   ],
   "source": [
    "avg_songs.show(10)"
   ]
  },
  {
   "cell_type": "code",
   "execution_count": 29,
   "metadata": {},
   "outputs": [],
   "source": [
    "# the output label of the dataset\n",
    "churn_ornot = user_log_valid.select(['userId', 'churn']).dropDuplicates()"
   ]
  },
  {
   "cell_type": "code",
   "execution_count": 30,
   "metadata": {},
   "outputs": [
    {
     "name": "stdout",
     "output_type": "stream",
     "text": [
      "+------+-----+\n",
      "|userId|churn|\n",
      "+------+-----+\n",
      "|    19|    0|\n",
      "|100005|    1|\n",
      "|200007|    0|\n",
      "|300007|    1|\n",
      "|    50|    0|\n",
      "|200002|    0|\n",
      "|    30|    0|\n",
      "|     8|    0|\n",
      "|100011|    1|\n",
      "|100012|    1|\n",
      "+------+-----+\n",
      "only showing top 10 rows\n",
      "\n"
     ]
    }
   ],
   "source": [
    "churn_ornot.show(10)"
   ]
  },
  {
   "cell_type": "markdown",
   "metadata": {},
   "source": [
    "### Put all features together"
   ]
  },
  {
   "cell_type": "code",
   "execution_count": 31,
   "metadata": {},
   "outputs": [],
   "source": [
    "features = [time_span, listen_time, avg_songs, churn_ornot]"
   ]
  },
  {
   "cell_type": "code",
   "execution_count": 32,
   "metadata": {},
   "outputs": [],
   "source": [
    "def join_features(feature, other_features):\n",
    "    for i in other_features:\n",
    "        feature = feature.join(i, 'userId', 'left')\n",
    "    feature = feature.sort('userId')\n",
    "    return feature"
   ]
  },
  {
   "cell_type": "code",
   "execution_count": 33,
   "metadata": {},
   "outputs": [],
   "source": [
    "features_final = join_features(user_page_features, features)"
   ]
  },
  {
   "cell_type": "code",
   "execution_count": 34,
   "metadata": {},
   "outputs": [
    {
     "name": "stdout",
     "output_type": "stream",
     "text": [
      "+------+-----+-----+----------+-----------+------------+---------+-----------+-----+-----------+--------+-----+\n",
      "|userId|Songs|Error|Add Friend|Roll Advert|Playlist_Add|Thumbs Up|Thumbs Down| span|listen_time|avg_song|churn|\n",
      "+------+-----+-----+----------+-----------+------------+---------+-----------+-----+-----------+--------+-----+\n",
      "|    10|  673|    0|        12|          1|           9|       37|          4| 52.0|   166866.0|  112.17|    0|\n",
      "|   100| 2682|    3|        49|         25|          61|      148|         27| 65.0|   672878.0|   78.88|    0|\n",
      "|100001|  133|    1|         2|         14|           3|        8|          2| 45.0|    35074.0|   33.25|    1|\n",
      "|100002|  195|    0|         1|          3|           5|        5|          0|160.0|    49560.0|   48.75|    0|\n",
      "|100003|   51|    0|         0|          9|           2|        3|          0| 23.0|    12306.0|    25.5|    1|\n",
      "|100004|  942|    2|        19|         86|          23|       35|         11|172.0|   231480.0|    47.1|    0|\n",
      "|100005|  154|    0|         3|         18|           3|        7|          3| 85.0|    37037.0|    38.5|    1|\n",
      "|100006|   26|    0|         4|          3|           1|        2|          2|  9.0|     5855.0|    26.0|    1|\n",
      "|100007|  423|    0|        17|          5|           9|       19|          6|115.0|   104495.0|    47.0|    1|\n",
      "|100008|  772|    0|        17|         20|          30|       37|          6| 68.0|   191397.0|  128.67|    0|\n",
      "+------+-----+-----+----------+-----------+------------+---------+-----------+-----+-----------+--------+-----+\n",
      "only showing top 10 rows\n",
      "\n"
     ]
    }
   ],
   "source": [
    "features_final.show(10)"
   ]
  },
  {
   "cell_type": "markdown",
   "metadata": {},
   "source": [
    "# Modeling\n",
    "Split the full dataset into train, test, and validation sets. Test out several of the machine learning methods you learned. Evaluate the accuracy of the various models, tuning parameters as necessary. Determine your winning model based on test accuracy and report results on the validation set. Since the churned users are a fairly small subset, I suggest using F1 score as the metric to optimize."
   ]
  },
  {
   "cell_type": "code",
   "execution_count": 35,
   "metadata": {},
   "outputs": [],
   "source": [
    "# assemble features to fit the model\n",
    "columns = ['Songs','Error','Add Friend','Roll Advert', 'Playlist_Add','Thumbs Up','Thumbs Down',\n",
    "         'span','listen_time','avg_song']\n",
    "Assembler = VectorAssembler(inputCols=columns, outputCol='Features')\n",
    "features_final = Assembler.transform(features_final)"
   ]
  },
  {
   "cell_type": "code",
   "execution_count": 36,
   "metadata": {},
   "outputs": [
    {
     "data": {
      "text/plain": [
       "Row(userId='10', Songs=673, Error=0, Add Friend=12, Roll Advert=1, Playlist_Add=9, Thumbs Up=37, Thumbs Down=4, span=52.0, listen_time=166866.0, avg_song=112.17, churn=0, Features=DenseVector([673.0, 0.0, 12.0, 1.0, 9.0, 37.0, 4.0, 52.0, 166866.0, 112.17]))"
      ]
     },
     "execution_count": 36,
     "metadata": {},
     "output_type": "execute_result"
    }
   ],
   "source": [
    "features_final.head()"
   ]
  },
  {
   "cell_type": "code",
   "execution_count": 37,
   "metadata": {},
   "outputs": [],
   "source": [
    "# normalize the data\n",
    "scaler = StandardScaler(inputCol=\"Features\", outputCol=\"scaledFeatures\",\n",
    "                        withStd=True, withMean=False)"
   ]
  },
  {
   "cell_type": "code",
   "execution_count": 38,
   "metadata": {},
   "outputs": [],
   "source": [
    "scaler_model = scaler.fit(features_final)\n",
    "features_final = scaler_model.transform(features_final)"
   ]
  },
  {
   "cell_type": "code",
   "execution_count": 39,
   "metadata": {},
   "outputs": [],
   "source": [
    "# extract useful columns\n",
    "use_data = features_final.select(features_final.churn.alias(\"label\"),\\\n",
    "                                 features_final.scaledFeatures.alias(\"features\"))"
   ]
  },
  {
   "cell_type": "code",
   "execution_count": 40,
   "metadata": {},
   "outputs": [
    {
     "name": "stdout",
     "output_type": "stream",
     "text": [
      "+-----+--------------------+\n",
      "|label|            features|\n",
      "+-----+--------------------+\n",
      "|    0|[0.6090713924531,...|\n",
      "|    0|[2.42723547482795...|\n",
      "|    1|[0.12036626329310...|\n",
      "|    0|[0.17647685219666...|\n",
      "|    1|[0.04615548442066...|\n",
      "|    0|[0.85251894753465...|\n",
      "|    1|[0.13937146276044...|\n",
      "|    1|[0.02353024695955...|\n",
      "|    1|[0.38281901784199...|\n",
      "|    0|[0.69866733279909...|\n",
      "|    1|[0.46879492019421...|\n",
      "|    0|[0.24887761207221...|\n",
      "|    1|[0.00995510448288...|\n",
      "|    1|[0.43078452125954...|\n",
      "|    1|[1.02356574274064...|\n",
      "|    1|[0.23258744110021...|\n",
      "|    1|[0.72400759875554...|\n",
      "|    0|[0.47965503417554...|\n",
      "|    1|[0.04706049391911...|\n",
      "|    0|[0.90681951744131...|\n",
      "+-----+--------------------+\n",
      "only showing top 20 rows\n",
      "\n"
     ]
    }
   ],
   "source": [
    "use_data.show()"
   ]
  },
  {
   "cell_type": "code",
   "execution_count": 41,
   "metadata": {},
   "outputs": [],
   "source": [
    "train, test = use_data.randomSplit([0.8, 0.2], seed=33)"
   ]
  },
  {
   "cell_type": "markdown",
   "metadata": {},
   "source": [
    "### Logistic Regression"
   ]
  },
  {
   "cell_type": "code",
   "execution_count": 42,
   "metadata": {},
   "outputs": [],
   "source": [
    "# initialize model and evaluator\n",
    "lr = LogisticRegression(maxIter=10)\n",
    "f1_score = MulticlassClassificationEvaluator(metricName='f1')\n",
    "\n",
    "# build a parameter grid\n",
    "paramGrid = ParamGridBuilder().build()\n",
    "crossval_lr = CrossValidator(estimator=lr, evaluator=f1_score, estimatorParamMaps=paramGrid, numFolds=3)"
   ]
  },
  {
   "cell_type": "code",
   "execution_count": 43,
   "metadata": {},
   "outputs": [],
   "source": [
    "lr_model = crossval_lr.fit(train)\n",
    "lr_result = lr_model.transform(test)"
   ]
  },
  {
   "cell_type": "code",
   "execution_count": 44,
   "metadata": {},
   "outputs": [
    {
     "name": "stdout",
     "output_type": "stream",
     "text": [
      "Accuracy\n",
      "0.8222222222222222\n",
      "F-1 score\n",
      "0.8015037593984963\n"
     ]
    }
   ],
   "source": [
    "evaluator = MulticlassClassificationEvaluator(predictionCol=\"prediction\")\n",
    "print(\"Accuracy\")\n",
    "print(evaluator.evaluate(lr_result, {evaluator.metricName: \"accuracy\"}))\n",
    "print(\"F-1 score\")\n",
    "print(evaluator.evaluate(lr_result, {evaluator.metricName: \"f1\"}))"
   ]
  },
  {
   "cell_type": "markdown",
   "metadata": {},
   "source": [
    "### Random Forest"
   ]
  },
  {
   "cell_type": "code",
   "execution_count": 45,
   "metadata": {},
   "outputs": [],
   "source": [
    "# initialize the model and evaluator\n",
    "rfc = RandomForestClassifier()\n",
    "f1_score = MulticlassClassificationEvaluator(metricName='f1')\n",
    "\n",
    "# build a parameter grid\n",
    "paramGrid = ParamGridBuilder().build()\n",
    "crossval_rfc = CrossValidator(estimator=rfc, evaluator=f1_score, estimatorParamMaps=paramGrid, numFolds=3)"
   ]
  },
  {
   "cell_type": "code",
   "execution_count": 46,
   "metadata": {},
   "outputs": [],
   "source": [
    "rfc_model = crossval_rfc.fit(train)\n",
    "rfc_result = rfc_model.transform(test)"
   ]
  },
  {
   "cell_type": "code",
   "execution_count": 47,
   "metadata": {},
   "outputs": [
    {
     "name": "stdout",
     "output_type": "stream",
     "text": [
      "Accuracy\n",
      "0.8222222222222222\n",
      "F-1 score\n",
      "0.8015037593984963\n"
     ]
    }
   ],
   "source": [
    "evaluator = MulticlassClassificationEvaluator(predictionCol=\"prediction\")\n",
    "print(\"Accuracy\")\n",
    "print(evaluator.evaluate(rfc_result, {evaluator.metricName: \"accuracy\"}))\n",
    "print(\"F-1 score\")\n",
    "print(evaluator.evaluate(rfc_result, {evaluator.metricName: \"f1\"}))"
   ]
  },
  {
   "cell_type": "markdown",
   "metadata": {},
   "source": [
    "### Gradient Boosted Tree"
   ]
  },
  {
   "cell_type": "code",
   "execution_count": 48,
   "metadata": {},
   "outputs": [],
   "source": [
    "# initialize the model and evaluator\n",
    "gbdt = GBTClassifier(maxIter=10, seed=33)\n",
    "f1_score = MulticlassClassificationEvaluator(metricName='f1')\n",
    "\n",
    "# build a parameter grid\n",
    "paramGrid = ParamGridBuilder().build()\n",
    "crossval_gbdt = CrossValidator(estimator=gbdt, evaluator=f1_score, estimatorParamMaps=paramGrid, numFolds=3)"
   ]
  },
  {
   "cell_type": "code",
   "execution_count": 49,
   "metadata": {},
   "outputs": [],
   "source": [
    "gbdt_model = crossval_gbdt.fit(train)\n",
    "gbdt_result = gbdt_model.transform(test)"
   ]
  },
  {
   "cell_type": "code",
   "execution_count": 50,
   "metadata": {},
   "outputs": [
    {
     "name": "stdout",
     "output_type": "stream",
     "text": [
      "Accuracy\n",
      "0.7777777777777778\n",
      "F-1 score\n",
      "0.7668918918918919\n"
     ]
    }
   ],
   "source": [
    "evaluator = MulticlassClassificationEvaluator(predictionCol=\"prediction\")\n",
    "print(\"Accuracy\")\n",
    "print(evaluator.evaluate(gbdt_result, {evaluator.metricName: \"accuracy\"}))\n",
    "print(\"F-1 score\")\n",
    "print(evaluator.evaluate(gbdt_result, {evaluator.metricName: \"f1\"}))"
   ]
  },
  {
   "cell_type": "markdown",
   "metadata": {},
   "source": [
    "As we can see, **Random Forest** provides the best F-1 score performance. Let's see which features are more important in this machine learning process."
   ]
  },
  {
   "cell_type": "markdown",
   "metadata": {},
   "source": [
    "### Feature Importance"
   ]
  },
  {
   "cell_type": "code",
   "execution_count": 54,
   "metadata": {},
   "outputs": [
    {
     "data": {
      "image/png": "[encoded data removed]",
      "text/plain": [
       "<Figure size 432x288 with 1 Axes>"
      ]
     },
     "metadata": {
      "needs_background": "light"
     },
     "output_type": "display_data"
    }
   ],
   "source": [
    "best_model = rfc_model.bestModel\n",
    "feature_importance = best_model.featureImportances\n",
    "\n",
    "y_value = np.arange(len(columns)) \n",
    "plt.barh(y_value, feature_importance, align='center')\n",
    "plt.yticks(y_value, columns)\n",
    "plt.xlabel('Importance Score')\n",
    "plt.ylabel('Features')\n",
    "plt.title('Random Forest Feature Importances');"
   ]
  },
  {
   "cell_type": "markdown",
   "metadata": {},
   "source": [
    "As the figure above, the most important feature for predicting churn are:\n",
    "\n",
    "- span, the time since registration\n",
    "- roll advert\n",
    "- the number of thumbs down\n",
    "- the number of songs added to playlist"
   ]
  },
  {
   "cell_type": "markdown",
   "metadata": {},
   "source": [
    "### Test the model robustness"
   ]
  },
  {
   "cell_type": "code",
   "execution_count": 55,
   "metadata": {},
   "outputs": [
    {
     "name": "stdout",
     "output_type": "stream",
     "text": [
      "Accuracy\n",
      "0.8222222222222222\n",
      "F-1 score\n",
      "0.8015037593984963\n"
     ]
    }
   ],
   "source": [
    "# Change the number of folds from 3 to 5 to test the robustness of the model\n",
    "crossval_rfc_test = CrossValidator(estimator=rfc, evaluator=f1_score, estimatorParamMaps=paramGrid, numFolds=5)\n",
    "\n",
    "rfc_model_test = crossval_rfc_test.fit(train)\n",
    "rfc_results_test = rfc_model_test.transform(test)\n",
    "\n",
    "evaluator = MulticlassClassificationEvaluator(predictionCol=\"prediction\")\n",
    "print(\"Accuracy\")\n",
    "print(evaluator.evaluate(rfc_results_test, {evaluator.metricName: \"accuracy\"}))\n",
    "print(\"F-1 score\")\n",
    "print(evaluator.evaluate(rfc_results_test, {evaluator.metricName: \"f1\"}))"
   ]
  },
  {
   "cell_type": "markdown",
   "metadata": {},
   "source": [
    "Therefore, the model is robust because the F-1 score maintains high although the parameters were changed."
   ]
  }
 ],
 "metadata": {
  "kernelspec": {
   "display_name": "Python 3",
   "language": "python",
   "name": "python3"
  },
  "language_info": {
   "codemirror_mode": {
    "name": "ipython",
    "version": 3
   },
   "file_extension": ".py",
   "mimetype": "text/x-python",
   "name": "python",
   "nbconvert_exporter": "python",
   "pygments_lexer": "ipython3",
   "version": "3.6.7"
  }
 },
 "nbformat": 4,
 "nbformat_minor": 2
}
